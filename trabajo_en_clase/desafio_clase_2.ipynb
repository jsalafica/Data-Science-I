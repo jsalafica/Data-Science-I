{
  "nbformat": 4,
  "nbformat_minor": 0,
  "metadata": {
    "colab": {
      "provenance": [],
      "collapsed_sections": [
        "ZM873rsXux2f",
        "TfJsDnzlu5Vk"
      ],
      "authorship_tag": "ABX9TyOOG9ZcPXaHgW4PXqbMIn79",
      "include_colab_link": true
    },
    "kernelspec": {
      "name": "python3",
      "display_name": "Python 3"
    },
    "language_info": {
      "name": "python"
    }
  },
  "cells": [
    {
      "cell_type": "markdown",
      "metadata": {
        "id": "view-in-github",
        "colab_type": "text"
      },
      "source": [
        "<a href=\"https://colab.research.google.com/github/jsalafica/Data-Science-I/blob/master/trabajo_en_clase/desafio_clase_2.ipynb\" target=\"_parent\"><img src=\"https://colab.research.google.com/assets/colab-badge.svg\" alt=\"Open In Colab\"/></a>"
      ]
    },
    {
      "cell_type": "markdown",
      "source": [
        "# Se define la Clase"
      ],
      "metadata": {
        "id": "ZM873rsXux2f"
      }
    },
    {
      "cell_type": "code",
      "execution_count": 1,
      "metadata": {
        "id": "AWXW9TSbucAF"
      },
      "outputs": [],
      "source": [
        "class Alumno:\n",
        "    def __init__(self, nombre):\n",
        "        self.nombre = nombre\n",
        "        self.calificaciones = []\n",
        "\n",
        "    def agregar_calificacion(self, nota):\n",
        "        if 0 <= nota <= 10:\n",
        "            self.calificaciones.append(nota)\n",
        "        else:\n",
        "            print(\"La nota debe estar entre 0 y 10.\")\n",
        "\n",
        "    def calcular_promedio(self):\n",
        "        if not self.calificaciones:\n",
        "            return 0\n",
        "        return sum(self.calificaciones) / len(self.calificaciones)\n",
        "\n",
        "    def mostrar_info(self):\n",
        "        print(f\"Alumno: {self.nombre}\")\n",
        "        print(f\"Calificaciones: {self.calificaciones}\")\n",
        "        print(f\"Promedio: {self.calcular_promedio():.2f}\")\n"
      ]
    },
    {
      "cell_type": "markdown",
      "source": [
        "# Aplicación"
      ],
      "metadata": {
        "id": "TfJsDnzlu5Vk"
      }
    },
    {
      "cell_type": "code",
      "source": [
        "alumno1 = Alumno(\"Juan\")\n",
        "alumno1.agregar_calificacion(8)\n",
        "alumno1.agregar_calificacion(9)\n",
        "alumno1.agregar_calificacion(7)\n",
        "alumno1.mostrar_info()"
      ],
      "metadata": {
        "colab": {
          "base_uri": "https://localhost:8080/"
        },
        "id": "-kQ2Sa35u-BL",
        "outputId": "d57bba2a-f8ea-4b5d-b2f0-53cb6090c165"
      },
      "execution_count": null,
      "outputs": [
        {
          "output_type": "stream",
          "name": "stdout",
          "text": [
            "Alumno: Juan\n",
            "Calificaciones: [8, 9, 7]\n",
            "Promedio: 8.00\n"
          ]
        }
      ]
    }
  ]
}