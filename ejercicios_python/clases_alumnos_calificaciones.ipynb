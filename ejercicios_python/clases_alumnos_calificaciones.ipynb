{
  "nbformat": 4,
  "nbformat_minor": 0,
  "metadata": {
    "colab": {
      "provenance": [],
      "collapsed_sections": [
        "WpIZS61pybA_"
      ],
      "authorship_tag": "ABX9TyNmndLkAkFQrc0+rq6e4diA",
      "include_colab_link": true
    },
    "kernelspec": {
      "name": "python3",
      "display_name": "Python 3"
    },
    "language_info": {
      "name": "python"
    }
  },
  "cells": [
    {
      "cell_type": "markdown",
      "metadata": {
        "id": "view-in-github",
        "colab_type": "text"
      },
      "source": [
        "<a href=\"https://colab.research.google.com/github/jsalafica/Data-Science-I/blob/master/ejercicios_python/clases_alumnos_calificaciones.ipynb\" target=\"_parent\"><img src=\"https://colab.research.google.com/assets/colab-badge.svg\" alt=\"Open In Colab\"/></a>"
      ]
    },
    {
      "cell_type": "markdown",
      "source": [
        "# Se define Clase y funciones"
      ],
      "metadata": {
        "id": "WpIZS61pybA_"
      }
    },
    {
      "cell_type": "code",
      "execution_count": 1,
      "metadata": {
        "id": "J225UKKCyUjf"
      },
      "outputs": [],
      "source": [
        "import json\n",
        "\n",
        "class Alumno:\n",
        "    def __init__(self, nombre, calificaciones=None):\n",
        "        self.nombre = nombre\n",
        "        self.calificaciones = calificaciones if calificaciones else {}\n",
        "\n",
        "    def agregar_calificacion(self, materia, nota):\n",
        "        if 0 <= nota <= 10:\n",
        "            self.calificaciones.setdefault(materia, []).append(nota)\n",
        "\n",
        "    def promedio_materia(self, materia):\n",
        "        notas = self.calificaciones.get(materia, [])\n",
        "        return sum(notas) / len(notas) if notas else 0\n",
        "\n",
        "    def promedio_general(self):\n",
        "        todas = [n for notas in self.calificaciones.values() for n in notas]\n",
        "        return sum(todas) / len(todas) if todas else 0\n",
        "\n",
        "    def a_dict(self):\n",
        "        return {\n",
        "            \"nombre\": self.nombre,\n",
        "            \"calificaciones\": self.calificaciones\n",
        "        }\n",
        "\n",
        "    @classmethod\n",
        "    def desde_dict(cls, data):\n",
        "        return cls(nombre=data[\"nombre\"], calificaciones=data[\"calificaciones\"])\n",
        "\n",
        "    def mostrar_info(self):\n",
        "        print(f\"\\nAlumno: {self.nombre}\")\n",
        "        for materia, notas in self.calificaciones.items():\n",
        "            print(f\"  {materia}: {notas} → Prom: {self.promedio_materia(materia):.2f}\")\n",
        "        print(f\"  Promedio General: {self.promedio_general():.2f}\")\n",
        "\n",
        "\n",
        "class RegistroAlumnos:\n",
        "    def __init__(self):\n",
        "        self.alumnos = {}\n",
        "\n",
        "    def agregar_alumno(self, alumno):\n",
        "        self.alumnos[alumno.nombre] = alumno\n",
        "\n",
        "    def guardar_en_archivo(self, archivo):\n",
        "        datos = [alumno.a_dict() for alumno in self.alumnos.values()]\n",
        "        with open(archivo, 'w') as f:\n",
        "            json.dump(datos, f, indent=2)\n",
        "\n",
        "    def cargar_desde_archivo(self, archivo):\n",
        "        try:\n",
        "            with open(archivo, 'r') as f:\n",
        "                datos = json.load(f)\n",
        "                for d in datos:\n",
        "                    alumno = Alumno.desde_dict(d)\n",
        "                    self.agregar_alumno(alumno)\n",
        "        except FileNotFoundError:\n",
        "            print(\"Archivo no encontrado. Se inicia un registro vacío.\")\n",
        "\n",
        "    def mostrar_todos(self):\n",
        "        for alumno in self.alumnos.values():\n",
        "            alumno.mostrar_info()\n"
      ]
    },
    {
      "cell_type": "markdown",
      "source": [
        "# Aplicación"
      ],
      "metadata": {
        "id": "qLpDvsqMymdD"
      }
    },
    {
      "cell_type": "code",
      "source": [
        "registro = RegistroAlumnos()\n",
        "\n",
        "# Cargar si ya hay datos\n",
        "registro.cargar_desde_archivo(\"alumnos.json\")\n",
        "\n",
        "# Agregar alumnos nuevos\n",
        "juan = Alumno(\"Juan\")\n",
        "juan.agregar_calificacion(\"Física\", 9)\n",
        "juan.agregar_calificacion(\"Química\", 7)\n",
        "registro.agregar_alumno(juan)\n",
        "\n",
        "ana = Alumno(\"Ana\")\n",
        "ana.agregar_calificacion(\"Física\", 10)\n",
        "registro.agregar_alumno(ana)\n",
        "\n",
        "# Mostrar y guardar\n",
        "registro.mostrar_todos()\n",
        "registro.guardar_en_archivo(\"alumnos.json\")\n"
      ],
      "metadata": {
        "colab": {
          "base_uri": "https://localhost:8080/"
        },
        "id": "w63Bri8UypWA",
        "outputId": "da9ea5f9-ecc8-4fe8-a0ee-be263d2c677b"
      },
      "execution_count": 3,
      "outputs": [
        {
          "output_type": "stream",
          "name": "stdout",
          "text": [
            "\n",
            "Alumno: Juan\n",
            "  Física: [9] → Prom: 9.00\n",
            "  Química: [7] → Prom: 7.00\n",
            "  Promedio General: 8.00\n",
            "\n",
            "Alumno: Ana\n",
            "  Física: [10] → Prom: 10.00\n",
            "  Promedio General: 10.00\n"
          ]
        }
      ]
    }
  ]
}