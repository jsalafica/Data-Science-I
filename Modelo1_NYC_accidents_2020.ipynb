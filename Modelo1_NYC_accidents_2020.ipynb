{
  "nbformat": 4,
  "nbformat_minor": 0,
  "metadata": {
    "colab": {
      "provenance": [],
      "authorship_tag": "ABX9TyPUfZxSt8xdsBLckwhDGgJ9",
      "include_colab_link": true
    },
    "kernelspec": {
      "name": "python3",
      "display_name": "Python 3"
    },
    "language_info": {
      "name": "python"
    }
  },
  "cells": [
    {
      "cell_type": "markdown",
      "metadata": {
        "id": "view-in-github",
        "colab_type": "text"
      },
      "source": [
        "<a href=\"https://colab.research.google.com/github/jsalafica/Data-Science-I/blob/master/Modelo1_NYC_accidents_2020.ipynb\" target=\"_parent\"><img src=\"https://colab.research.google.com/assets/colab-badge.svg\" alt=\"Open In Colab\"/></a>"
      ]
    },
    {
      "cell_type": "code",
      "execution_count": 1,
      "metadata": {
        "colab": {
          "base_uri": "https://localhost:8080/"
        },
        "id": "0xFfU_76Quyh",
        "outputId": "390ab48b-db14-43ca-818e-d6a8dec792fd"
      },
      "outputs": [
        {
          "output_type": "stream",
          "name": "stdout",
          "text": [
            "[[9624 1246]\n",
            " [3020  706]]\n",
            "              precision    recall  f1-score   support\n",
            "\n",
            "           0       0.76      0.89      0.82     10870\n",
            "           1       0.36      0.19      0.25      3726\n",
            "\n",
            "    accuracy                           0.71     14596\n",
            "   macro avg       0.56      0.54      0.53     14596\n",
            "weighted avg       0.66      0.71      0.67     14596\n",
            "\n"
          ]
        }
      ],
      "source": [
        "# Paso 1: Cargar datos\n",
        "import pandas as pd\n",
        "\n",
        "url = 'https://raw.githubusercontent.com/jsalafica/Data-Science-I/master/NYC_Accidents_2020.csv'\n",
        "df = pd.read_csv(url)\n",
        "\n",
        "# Paso 2: Crear variable objetivo\n",
        "df['HERIDOS'] = (df['NUMBER OF PERSONS INJURED'] > 0).astype(int)\n",
        "\n",
        "# Paso 3: Extraer la hora como numérica\n",
        "df['HORA'] = pd.to_datetime(df['CRASH TIME'], format='%H:%M:%S', errors='coerce').dt.hour\n",
        "\n",
        "# Paso 4: Seleccionar columnas relevantes y quitar filas con NaN\n",
        "df_model = df[['HORA', 'BOROUGH', 'VEHICLE TYPE CODE 1', 'HERIDOS']].dropna()\n",
        "\n",
        "# Paso 5: Codificar variables categóricas\n",
        "from sklearn.preprocessing import LabelEncoder, StandardScaler\n",
        "le_borough = LabelEncoder()\n",
        "le_vehiculo = LabelEncoder()\n",
        "df_model['BOROUGH'] = le_borough.fit_transform(df_model['BOROUGH'])\n",
        "df_model['VEHICLE TYPE CODE 1'] = le_vehiculo.fit_transform(df_model['VEHICLE TYPE CODE 1'])\n",
        "\n",
        "# Paso 6: Separar X e y\n",
        "X = df_model[['HORA', 'BOROUGH', 'VEHICLE TYPE CODE 1']]\n",
        "y = df_model['HERIDOS']\n",
        "\n",
        "# Paso 7: Escalado\n",
        "scaler = StandardScaler()\n",
        "X_scaled = scaler.fit_transform(X)\n",
        "\n",
        "# Paso 8: Entrenamiento y evaluación\n",
        "from sklearn.model_selection import train_test_split\n",
        "from sklearn.neighbors import KNeighborsClassifier\n",
        "from sklearn.metrics import classification_report, confusion_matrix\n",
        "\n",
        "X_train, X_test, y_train, y_test = train_test_split(X_scaled, y, test_size=0.3, random_state=42)\n",
        "\n",
        "knn = KNeighborsClassifier(n_neighbors=5)\n",
        "knn.fit(X_train, y_train)\n",
        "y_pred = knn.predict(X_test)\n",
        "\n",
        "# Paso 9: Resultados\n",
        "print(confusion_matrix(y_test, y_pred))\n",
        "print(classification_report(y_test, y_pred))\n"
      ]
    }
  ]
}